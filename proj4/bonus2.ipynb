{
  "nbformat": 4,
  "nbformat_minor": 0,
  "metadata": {
    "colab": {
      "name": "bonus2.ipynb",
      "version": "0.3.2",
      "provenance": [],
      "collapsed_sections": []
    },
    "kernelspec": {
      "name": "python3",
      "display_name": "Python 3"
    }
  },
  "cells": [
    {
      "metadata": {
        "id": "pAqdfwx8uKFH",
        "colab_type": "code",
        "colab": {}
      },
      "cell_type": "code",
      "source": [
        "# We need to install few packages, the below libraries are not inbuild in the\n",
        "# underying google colab machine. Few of the libraies are for baseline and \n",
        "# gym. And few for displaying the animation.\n",
        "!apt-get update &&  apt-get install cmake libopenmpi-dev python3-dev zlib1g-dev\n",
        "!apt-get install -y xvfb python-opengl > /dev/null 2>&1\n",
        "!pip install gym pyvirtualdisplay > /dev/null 2>&1\n",
        "!pip install gym[atari_py]\n",
        "!apt install ffmpeg\n",
        "!pip install stable_baselines\n",
        "!pip install box2d-py\n",
        "!pip install gym[Box_2D]\n",
        "!pip install imageio"
      ],
      "execution_count": 0,
      "outputs": []
    },
    {
      "metadata": {
        "id": "0PMyzZOcuYRr",
        "colab_type": "code",
        "colab": {}
      },
      "cell_type": "code",
      "source": [
        "import gym, time, imageio, os\n",
        "import matplotlib.pyplot as plt\n",
        "import numpy as np\n",
        "from pyvirtualdisplay import Display\n",
        "from matplotlib.image import imread\n",
        "from matplotlib import rc, animation\n",
        "from stable_baselines import DQN\n",
        "from stable_baselines.deepq.policies import MlpPolicy\n",
        "from stable_baselines.common.vec_env import DummyVecEnv\n",
        "from stable_baselines.results_plotter import load_results, ts2xy\n",
        "from stable_baselines.bench import Monitor\n",
        "%matplotlib inline\n",
        "\n",
        "try:\n",
        "  from google.colab import files\n",
        "except:\n",
        "  print(\"Could not import Google Colab.\")\n",
        "  \n",
        "display = Display(visible=0, size=(400, 300))\n",
        "display.start()\n",
        "plt.rcParams['animation.ffmpeg_path'] = u'/usr/bin/ffmpeg'\n"
      ],
      "execution_count": 0,
      "outputs": []
    },
    {
      "metadata": {
        "id": "0n14RCSHfMDP",
        "colab_type": "code",
        "colab": {}
      },
      "cell_type": "code",
      "source": [
        "best_mean_reward, n_steps = -np.inf, 0\n",
        "log_dir = \"/tmp/gym/\"\n",
        "os.makedirs(log_dir, exist_ok=True)\n",
        "def callback(_locals, _globals):\n",
        "  \"\"\"\n",
        "  Callback called at each step (for DQN an others) or after n steps (see ACER or PPO2)\n",
        "  :param _locals: (dict)\n",
        "  :param _globals: (dict)\n",
        "  \"\"\"\n",
        "  global n_steps, best_mean_reward\n",
        "  # Print stats every 1000 calls\n",
        "  if (n_steps + 1) % 1000 == 0:\n",
        "      # Evaluate policy performance\n",
        "      x, y = ts2xy(load_results(log_dir), 'timesteps')\n",
        "      if len(x) > 0:\n",
        "          mean_reward = np.mean(y[-100:])\n",
        "          print(x[-1], 'timesteps')\n",
        "          print(\"Best mean reward: {:.2f} - Last mean reward per episode: {:.2f}\".format(best_mean_reward, mean_reward))\n",
        "\n",
        "          # New best model, you could save the agent here\n",
        "          if mean_reward > best_mean_reward:\n",
        "              best_mean_reward = mean_reward\n",
        "              # Example for saving best model\n",
        "              print(\"Saving new best model\")\n",
        "              _locals['self'].save(log_dir + 'best_model.pkl')\n",
        "  n_steps += 1\n",
        "  return True"
      ],
      "execution_count": 0,
      "outputs": []
    },
    {
      "metadata": {
        "id": "tMFmy3aruv7X",
        "colab_type": "code",
        "outputId": "da627ef7-c834-4387-e06d-2fbdd186c25d",
        "colab": {
          "base_uri": "https://localhost:8080/",
          "height": 938
        }
      },
      "cell_type": "code",
      "source": [
        "#First step is to get an environment in which we can run reinforcement learning\n",
        "\n",
        "# Environment description:\n",
        "\n",
        "#Rewards: \n",
        "#  Moving from the top of the screen to landing pad and zero speed is about 100 to 140 points. \n",
        "#  If lander moves away from landing pad it loses reward back. \n",
        "#  Episode finishes if the lander crashes or comes to rest, receiving additional -100 or +100 points. \n",
        "#  Each leg ground contact is +10. Firing main engine is -0.3 points each frame. \n",
        "#  Solved is 200 points. Landing outside landing pad is possible. \n",
        "#  Fuel is infinite, so an agent can learn to fly and then land on its first attempt. \n",
        "\n",
        "#Actions available: \n",
        "#do nothing, fire left orientation engine, fire main engine, fire right orientation engine.\n",
        "\n",
        "env = gym.make('LunarLander-v2')\n",
        "env = Monitor(env, log_dir, allow_early_resets=True)\n",
        "#DummyVecEnv creates a simple vectorized wrapper for multiple environments, meaning\n",
        "#   this is the way to multiprocess training, hence we have a vectorized environment\n",
        "\n",
        "env = DummyVecEnv([lambda: env])\n",
        "\n",
        "#Here we are using the DQN implementation by stable baseline\n",
        "model = DQN(MlpPolicy, env, verbose=1)\n",
        "\n",
        "#Agents gets trained at this step, training with 50k steps and calling the callback\n",
        "#for plotting the results, this will show how well the agent is learning, and \n",
        "#performing, at each point rewards are collected in the callback.\n",
        "model.learn(total_timesteps=25000, callback=callback)"
      ],
      "execution_count": 0,
      "outputs": [
        {
          "output_type": "stream",
          "text": [
            "/usr/local/lib/python3.6/dist-packages/gym/envs/registration.py:14: PkgResourcesDeprecationWarning: Parameters to load are deprecated.  Call .resolve and .require separately.\n",
            "  result = entry_point.load(False)\n"
          ],
          "name": "stderr"
        },
        {
          "output_type": "stream",
          "text": [
            "997 timesteps\n",
            "Best mean reward: -75.48 - Last mean reward per episode: -229.02\n",
            "1844 timesteps\n",
            "Best mean reward: -75.48 - Last mean reward per episode: -209.24\n",
            "2827 timesteps\n",
            "Best mean reward: -75.48 - Last mean reward per episode: -208.51\n",
            "3742 timesteps\n",
            "Best mean reward: -75.48 - Last mean reward per episode: -190.79\n",
            "4816 timesteps\n",
            "Best mean reward: -75.48 - Last mean reward per episode: -176.48\n",
            "5099 timesteps\n",
            "Best mean reward: -75.48 - Last mean reward per episode: -177.24\n",
            "6099 timesteps\n",
            "Best mean reward: -75.48 - Last mean reward per episode: -176.73\n",
            "7099 timesteps\n",
            "Best mean reward: -75.48 - Last mean reward per episode: -171.73\n",
            "8099 timesteps\n",
            "Best mean reward: -75.48 - Last mean reward per episode: -168.47\n",
            "9915 timesteps\n",
            "Best mean reward: -75.48 - Last mean reward per episode: -166.17\n",
            "10915 timesteps\n",
            "Best mean reward: -75.48 - Last mean reward per episode: -166.63\n",
            "11915 timesteps\n",
            "Best mean reward: -75.48 - Last mean reward per episode: -167.11\n",
            "12915 timesteps\n",
            "Best mean reward: -75.48 - Last mean reward per episode: -165.47\n",
            "13790 timesteps\n",
            "Best mean reward: -75.48 - Last mean reward per episode: -157.01\n",
            "14678 timesteps\n",
            "Best mean reward: -75.48 - Last mean reward per episode: -161.53\n",
            "15601 timesteps\n",
            "Best mean reward: -75.48 - Last mean reward per episode: -167.02\n",
            "16504 timesteps\n",
            "Best mean reward: -75.48 - Last mean reward per episode: -172.25\n",
            "17125 timesteps\n",
            "Best mean reward: -75.48 - Last mean reward per episode: -175.41\n",
            "18245 timesteps\n",
            "Best mean reward: -75.48 - Last mean reward per episode: -170.37\n",
            "19245 timesteps\n",
            "Best mean reward: -75.48 - Last mean reward per episode: -166.63\n",
            "20941 timesteps\n",
            "Best mean reward: -75.48 - Last mean reward per episode: -159.67\n",
            "21475 timesteps\n",
            "Best mean reward: -75.48 - Last mean reward per episode: -152.14\n",
            "22700 timesteps\n",
            "Best mean reward: -75.48 - Last mean reward per episode: -149.11\n",
            "23700 timesteps\n",
            "Best mean reward: -75.48 - Last mean reward per episode: -147.07\n",
            "24700 timesteps\n",
            "Best mean reward: -75.48 - Last mean reward per episode: -144.98\n"
          ],
          "name": "stdout"
        },
        {
          "output_type": "execute_result",
          "data": {
            "text/plain": [
              "<stable_baselines.deepq.dqn.DQN at 0x7f4dd65f5438>"
            ]
          },
          "metadata": {
            "tags": []
          },
          "execution_count": 54
        }
      ]
    },
    {
      "metadata": {
        "id": "H9F8JhxzvEU3",
        "colab_type": "code",
        "colab": {}
      },
      "cell_type": "code",
      "source": [
        "#We initalize the frames array so that we can collect each frame, and use it for\n",
        "# animation.\n",
        "frames=[]\n",
        "obs = env.reset()\n",
        "for i in range(1000):\n",
        "    #we let the model predict here, which returns the action and states\n",
        "    action, _states = model.predict(obs)\n",
        "    #step function performs the particular action, that was predicted out of the \n",
        "    #neural network model.\n",
        "    obs, rewards, dones, info = env.step(action)\n",
        "    screen = env.render(mode='rgb_array')\n",
        "    #we simple collect all the images, which can be used later for animation\n",
        "    frames.append(screen)"
      ],
      "execution_count": 0,
      "outputs": []
    },
    {
      "metadata": {
        "id": "J8HgyabOg0zU",
        "colab_type": "code",
        "outputId": "9b230055-39c8-415a-f5bf-7d3c3016c127",
        "colab": {
          "base_uri": "https://localhost:8080/",
          "height": 294
        }
      },
      "cell_type": "code",
      "source": [
        "def movingAverage(values, window):\n",
        "    \"\"\"\n",
        "    Smooth values by doing a moving average\n",
        "    :param values: (numpy array)\n",
        "    :param window: (int)\n",
        "    :return: (numpy array)\n",
        "    \"\"\"\n",
        "    weights = np.repeat(1.0, window) / window\n",
        "    return np.convolve(values, weights, 'valid')\n",
        "\n",
        "\n",
        "def plot_results(log_folder, title='Learning Curve'):\n",
        "    \"\"\"\n",
        "    plot the results\n",
        "\n",
        "    :param log_folder: (str) the save location of the results to plot\n",
        "    :param title: (str) the title of the task to plot\n",
        "    \"\"\"\n",
        "    x, y = ts2xy(load_results(log_folder), 'timesteps')\n",
        "    y = movingAverage(y, window=50)\n",
        "    # Truncate x\n",
        "    x = x[len(x) - len(y):]\n",
        "\n",
        "    fig = plt.figure(title)\n",
        "    plt.plot(x, y)\n",
        "    plt.xlabel('Number of Timesteps')\n",
        "    plt.ylabel('Rewards')\n",
        "    plt.title(title + \" Smoothed\")\n",
        "    plt.show()\n",
        "plot_results(log_dir)"
      ],
      "execution_count": 0,
      "outputs": [
        {
          "output_type": "display_data",
          "data": {
            "image/png": "[encoded data removed]",
            "text/plain": [
              "<matplotlib.figure.Figure at 0x7f4dd4b1e048>"
            ]
          },
          "metadata": {
            "tags": []
          }
        }
      ]
    },
    {
      "metadata": {
        "id": "_x8cl1CfvOYN",
        "colab_type": "code",
        "colab": {}
      },
      "cell_type": "code",
      "source": [
        "# Saving the predicted episode as a gif for viewing it\n",
        "imageio.mimsave('lander.gif', [np.array(img) for i, img in enumerate(frames) if i%2 == 0], fps=29)\n",
        "files.download('lander.gif')\n"
      ],
      "execution_count": 0,
      "outputs": []
    }
  ]
}