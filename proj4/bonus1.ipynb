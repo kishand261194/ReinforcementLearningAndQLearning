{
  "nbformat": 4,
  "nbformat_minor": 0,
  "metadata": {
    "colab": {
      "name": "bonus1.ipynb",
      "version": "0.3.2",
      "provenance": [],
      "collapsed_sections": []
    },
    "kernelspec": {
      "name": "python3",
      "display_name": "Python 3"
    }
  },
  "cells": [
    {
      "metadata": {
        "id": "pAqdfwx8uKFH",
        "colab_type": "code",
        "colab": {}
      },
      "cell_type": "code",
      "source": [
        "# We need to install few packages, the below libraries are not inbuild in the\n",
        "# underying google colab machine. Few of the libraies are for baseline and \n",
        "# gym. And few for displaying the animation.\n",
        "!apt-get update &&  apt-get install cmake libopenmpi-dev python3-dev zlib1g-dev\n",
        "!apt-get install -y xvfb python-opengl > /dev/null 2>&1\n",
        "!pip install gym pyvirtualdisplay > /dev/null 2>&1\n",
        "!pip install gym[atari_py]\n",
        "!apt install ffmpeg\n",
        "!pip install stable_baselines\n",
        "!pip install box2d-py\n",
        "!pip install gym[Box_2D]\n",
        "!pip install imageio"
      ],
      "execution_count": 0,
      "outputs": []
    },
    {
      "metadata": {
        "id": "0PMyzZOcuYRr",
        "colab_type": "code",
        "colab": {}
      },
      "cell_type": "code",
      "source": [
        "import gym, time, imageio, os\n",
        "import matplotlib.pyplot as plt\n",
        "import numpy as np\n",
        "from pyvirtualdisplay import Display\n",
        "from matplotlib.image import imread\n",
        "from matplotlib import rc, animation\n",
        "from stable_baselines import DQN, ACER\n",
        "from stable_baselines.deepq.policies import MlpPolicy, CnnPolicy\n",
        "from stable_baselines.common.policies import CnnPolicy, MlpPolicy\n",
        "from stable_baselines.common.vec_env import DummyVecEnv\n",
        "from stable_baselines.results_plotter import load_results, ts2xy\n",
        "from stable_baselines.bench import Monitor\n",
        "from stable_baselines.common.cmd_util import make_atari_env\n",
        "%matplotlib inline\n",
        "\n",
        "try:\n",
        "  from google.colab import files\n",
        "except:\n",
        "  print(\"Could not import Google Colab.\")\n",
        "  \n",
        "display = Display(visible=0, size=(400, 300))\n",
        "display.start()\n",
        "plt.rcParams['animation.ffmpeg_path'] = u'/usr/bin/ffmpeg'\n"
      ],
      "execution_count": 0,
      "outputs": []
    },
    {
      "metadata": {
        "id": "0n14RCSHfMDP",
        "colab_type": "code",
        "colab": {}
      },
      "cell_type": "code",
      "source": [
        "# Callback to capture the rewards, and plot them in the learning stage\n",
        "best_mean_reward, n_steps = -np.inf, 0\n",
        "log_dir = \"/tmp/gym/\"\n",
        "os.makedirs(log_dir, exist_ok=True)\n",
        "def callback(_locals, _globals):\n",
        "  \"\"\"\n",
        "  Callback called at each step (for DQN an others) or after n steps (see ACER or PPO2)\n",
        "  :param _locals: (dict)\n",
        "  :param _globals: (dict)\n",
        "  \"\"\"\n",
        "  global n_steps, best_mean_reward\n",
        "  # Print stats every 1000 calls\n",
        "  if (n_steps + 1) % 1000 == 0:\n",
        "      # Evaluate policy performance\n",
        "      x, y = ts2xy(load_results(log_dir), 'timesteps')\n",
        "      if len(x) > 0:\n",
        "          mean_reward = np.mean(y[-100:])\n",
        "          print(x[-1], 'timesteps')\n",
        "          print(\"Best mean reward: {:.2f} - Last mean reward per episode: {:.2f}\".format(best_mean_reward, mean_reward))\n",
        "\n",
        "          # New best model, you could save the agent here\n",
        "          if mean_reward > best_mean_reward:\n",
        "              best_mean_reward = mean_reward\n",
        "              # Example for saving best model\n",
        "              print(\"Saving new best model\")\n",
        "              _locals['self'].save(log_dir + 'best_model.pkl')\n",
        "  n_steps += 1\n",
        "  return True"
      ],
      "execution_count": 0,
      "outputs": []
    },
    {
      "metadata": {
        "id": "tMFmy3aruv7X",
        "colab_type": "code",
        "outputId": "42bdb961-8b19-487a-8b62-338e8f5f0576",
        "colab": {
          "base_uri": "https://localhost:8080/",
          "height": 1720
        }
      },
      "cell_type": "code",
      "source": [
        "#First step is to get an environment in which we can run reinforcement learning\n",
        "\n",
        "# Environment description:\n",
        "#In this environment, the observation is the RAM of the Atari machine, consisting of (only!) 128 bytes. \n",
        "#Each action is repeatedly performed for a duration of k frames, where k is uniformly sampled from {2, 3, 4}.\n",
        "# or\n",
        "#In this environment, the observation is an RGB image of the screen, \n",
        "#which is an array of shape (210, 160, 3) Each action is repeatedly performed \n",
        "#for a duration of kk frames, where kk is uniformly sampled from {2, 3, 4}.\n",
        "\n",
        "#Actions available: \n",
        "#fire left , fire main, fire right.\n",
        "\n",
        "env = gym.make('Atlantis-ram-v0')\n",
        "env = Monitor(env, log_dir, allow_early_resets=True)\n",
        "#DummyVecEnv creates a simple vectorized wrapper for multiple environments, meaning\n",
        "#   this is the way to multiprocess training, hence we have a vectorized environment\n",
        "\n",
        "env = DummyVecEnv([lambda: env])\n",
        "\n",
        "#Here we are using the DQN implementation by stable baseline\n",
        "model = DQN(MlpPolicy, env, verbose=1)\n",
        "\n",
        "#Agents gets trained at this step, training with 50k steps and calling the callback\n",
        "#for plotting the results, this will show how well the agent is learning, and \n",
        "#performing, at each point rewards are collected in the callback.\n",
        "model.learn(total_timesteps=50000, callback=callback)"
      ],
      "execution_count": 0,
      "outputs": [
        {
          "output_type": "stream",
          "text": [
            "/usr/local/lib/python3.6/dist-packages/gym/envs/registration.py:14: PkgResourcesDeprecationWarning: Parameters to load are deprecated.  Call .resolve and .require separately.\n",
            "  result = entry_point.load(False)\n"
          ],
          "name": "stderr"
        },
        {
          "output_type": "stream",
          "text": [
            "2222 timesteps\n",
            "Best mean reward: 19300.00 - Last mean reward per episode: 7350.00\n",
            "2222 timesteps\n",
            "Best mean reward: 19300.00 - Last mean reward per episode: 7350.00\n",
            "3757 timesteps\n",
            "Best mean reward: 19300.00 - Last mean reward per episode: 9300.00\n",
            "4913 timesteps\n",
            "Best mean reward: 19300.00 - Last mean reward per episode: 8875.00\n",
            "5817 timesteps\n",
            "Best mean reward: 19300.00 - Last mean reward per episode: 7800.00\n",
            "6696 timesteps\n",
            "Best mean reward: 19300.00 - Last mean reward per episode: 7200.00\n",
            "7610 timesteps\n",
            "Best mean reward: 19300.00 - Last mean reward per episode: 6614.29\n",
            "8694 timesteps\n",
            "Best mean reward: 19300.00 - Last mean reward per episode: 6700.00\n",
            "9512 timesteps\n",
            "Best mean reward: 19300.00 - Last mean reward per episode: 6544.44\n",
            "10564 timesteps\n",
            "Best mean reward: 19300.00 - Last mean reward per episode: 6240.00\n",
            "11540 timesteps\n",
            "Best mean reward: 19300.00 - Last mean reward per episode: 5954.55\n",
            "12887 timesteps\n",
            "Best mean reward: 19300.00 - Last mean reward per episode: 6183.33\n",
            "14017 timesteps\n",
            "Best mean reward: 19300.00 - Last mean reward per episode: 6384.62\n",
            "14899 timesteps\n",
            "Best mean reward: 19300.00 - Last mean reward per episode: 6435.71\n",
            "14899 timesteps\n",
            "Best mean reward: 19300.00 - Last mean reward per episode: 6435.71\n",
            "16480 timesteps\n",
            "Best mean reward: 19300.00 - Last mean reward per episode: 7046.67\n",
            "17581 timesteps\n",
            "Best mean reward: 19300.00 - Last mean reward per episode: 6981.25\n",
            "17581 timesteps\n",
            "Best mean reward: 19300.00 - Last mean reward per episode: 6981.25\n",
            "19866 timesteps\n",
            "Best mean reward: 19300.00 - Last mean reward per episode: 7900.00\n",
            "21110 timesteps\n",
            "Best mean reward: 19300.00 - Last mean reward per episode: 7822.22\n",
            "22034 timesteps\n",
            "Best mean reward: 19300.00 - Last mean reward per episode: 7689.47\n",
            "23304 timesteps\n",
            "Best mean reward: 19300.00 - Last mean reward per episode: 7775.00\n",
            "23304 timesteps\n",
            "Best mean reward: 19300.00 - Last mean reward per episode: 7775.00\n",
            "23304 timesteps\n",
            "Best mean reward: 19300.00 - Last mean reward per episode: 7775.00\n",
            "25931 timesteps\n",
            "Best mean reward: 19300.00 - Last mean reward per episode: 8323.81\n",
            "25931 timesteps\n",
            "Best mean reward: 19300.00 - Last mean reward per episode: 8323.81\n",
            "25931 timesteps\n",
            "Best mean reward: 19300.00 - Last mean reward per episode: 8323.81\n",
            "28776 timesteps\n",
            "Best mean reward: 19300.00 - Last mean reward per episode: 9522.73\n",
            "28776 timesteps\n",
            "Best mean reward: 19300.00 - Last mean reward per episode: 9522.73\n",
            "30640 timesteps\n",
            "Best mean reward: 19300.00 - Last mean reward per episode: 10147.83\n",
            "32194 timesteps\n",
            "Best mean reward: 19300.00 - Last mean reward per episode: 10258.33\n",
            "32194 timesteps\n",
            "Best mean reward: 19300.00 - Last mean reward per episode: 10258.33\n",
            "34236 timesteps\n",
            "Best mean reward: 19300.00 - Last mean reward per episode: 10788.00\n",
            "35317 timesteps\n",
            "Best mean reward: 19300.00 - Last mean reward per episode: 10653.85\n",
            "35317 timesteps\n",
            "Best mean reward: 19300.00 - Last mean reward per episode: 10653.85\n",
            "36611 timesteps\n",
            "Best mean reward: 19300.00 - Last mean reward per episode: 10862.96\n",
            "37958 timesteps\n",
            "Best mean reward: 19300.00 - Last mean reward per episode: 10800.00\n",
            "37958 timesteps\n",
            "Best mean reward: 19300.00 - Last mean reward per episode: 10800.00\n",
            "39419 timesteps\n",
            "Best mean reward: 19300.00 - Last mean reward per episode: 11082.76\n",
            "40641 timesteps\n",
            "Best mean reward: 19300.00 - Last mean reward per episode: 11013.33\n",
            "42336 timesteps\n",
            "Best mean reward: 19300.00 - Last mean reward per episode: 11387.10\n",
            "42336 timesteps\n",
            "Best mean reward: 19300.00 - Last mean reward per episode: 11387.10\n",
            "43393 timesteps\n",
            "Best mean reward: 19300.00 - Last mean reward per episode: 11340.62\n",
            "44568 timesteps\n",
            "Best mean reward: 19300.00 - Last mean reward per episode: 11433.33\n",
            "46268 timesteps\n",
            "Best mean reward: 19300.00 - Last mean reward per episode: 10940.00\n",
            "46268 timesteps\n",
            "Best mean reward: 19300.00 - Last mean reward per episode: 10940.00\n",
            "47388 timesteps\n",
            "Best mean reward: 19300.00 - Last mean reward per episode: 10852.78\n",
            "48695 timesteps\n",
            "Best mean reward: 19300.00 - Last mean reward per episode: 10810.81\n"
          ],
          "name": "stdout"
        },
        {
          "output_type": "execute_result",
          "data": {
            "text/plain": [
              "<stable_baselines.deepq.dqn.DQN at 0x7fab771955f8>"
            ]
          },
          "metadata": {
            "tags": []
          },
          "execution_count": 113
        }
      ]
    },
    {
      "metadata": {
        "id": "H9F8JhxzvEU3",
        "colab_type": "code",
        "colab": {}
      },
      "cell_type": "code",
      "source": [
        "#We initalize the frames array so that we can collect each frame, and use it for\n",
        "# animation.\n",
        "frames=[]\n",
        "obs = env.reset()\n",
        "for i in range(1000):\n",
        "    #we let the model predict here, which returns the action and states\n",
        "    action, _states = model.predict(obs)\n",
        "    #step function performs the particular action, that was predicted out of the \n",
        "    #neural network model.\n",
        "    obs, rewards, dones, info = env.step(action)\n",
        "    screen = env.render(mode='rgb_array')\n",
        "    #we simple collect all the images, which can be used later for animation\n",
        "    frames.append(screen)"
      ],
      "execution_count": 0,
      "outputs": []
    },
    {
      "metadata": {
        "id": "J8HgyabOg0zU",
        "colab_type": "code",
        "outputId": "7492930c-901d-461c-f0b6-3bfff97a64b2",
        "colab": {
          "base_uri": "https://localhost:8080/",
          "height": 294
        }
      },
      "cell_type": "code",
      "source": [
        "#Function for ploting from the documentation site\n",
        "def movingAverage(values, window):\n",
        "    \"\"\"\n",
        "    Smooth values by doing a moving average\n",
        "    :param values: (numpy array)\n",
        "    :param window: (int)\n",
        "    :return: (numpy array)\n",
        "    \"\"\"\n",
        "    weights = np.repeat(1.0, window) / window\n",
        "    return np.convolve(values, weights, 'valid')\n",
        "\n",
        "\n",
        "def plot_results(log_folder, title='Learning Curve'):\n",
        "    \"\"\"\n",
        "    plot the results\n",
        "\n",
        "    :param log_folder: (str) the save location of the results to plot\n",
        "    :param title: (str) the title of the task to plot\n",
        "    \"\"\"\n",
        "    x, y = ts2xy(load_results(log_folder), 'timesteps')\n",
        "    y = movingAverage(y, window=1)\n",
        "    # Truncate x\n",
        "    x = x[len(x) - len(y):]\n",
        "\n",
        "    fig = plt.figure(title)\n",
        "    plt.plot(x, y)\n",
        "    plt.xlabel('Number of Timesteps')\n",
        "    plt.ylabel('Rewards')\n",
        "    plt.title(title + \" Smoothed\")\n",
        "    plt.show()\n",
        "plot_results(log_dir)"
      ],
      "execution_count": 0,
      "outputs": [
        {
          "output_type": "display_data",
          "data": {
            "image/png": "[encoded data removed]",
            "text/plain": [
              "<matplotlib.figure.Figure at 0x7fab762a75f8>"
            ]
          },
          "metadata": {
            "tags": []
          }
        }
      ]
    },
    {
      "metadata": {
        "id": "_x8cl1CfvOYN",
        "colab_type": "code",
        "colab": {}
      },
      "cell_type": "code",
      "source": [
        "# Saving the predicted episode as a gif for viewing it\n",
        "imageio.mimsave('lander.gif', [np.array(img) for i, img in enumerate(frames) if i%2 == 0], fps=29)\n",
        "files.download('lander.gif')\n"
      ],
      "execution_count": 0,
      "outputs": []
    }
  ]
}